{
 "cells": [
  {
   "cell_type": "markdown",
   "id": "40466ed1",
   "metadata": {},
   "source": [
    "# <center>Análisis Sentimental (Reviews de videojuegos) - Proyecto IE</center>\n",
    "\n",
    "\n",
    "|  |  |  |\n",
    "| --- | --- | --- |\n",
    "| <img src=\"https://iaarhub.github.io/images/Inteligencia-Artificial-Deep-Learning.jpg\"> | <img src=\"https://store.akamai.steamstatic.com/public/images/promo/reviews/feature_write.jpg\"> |  |\n",
    "\n",
    "\n",
    "\n",
    "\n",
    "\n",
    "En este Notebook trabajaremos sobre el Data set de **Steam reviews** que comentamos en la presentación. Este dataset cuenta con **6,4 millones de reviews** sobre videojuegos de steam escritas por los usuarios, entre ellas hay reviews positivas y reviews negativas.\n",
    "El objetivo es entrenar un modelo a partir de este gran número de datos, y conseguir que sea capaz de hacer un **análisis sentimental**, es decir, que si nosotros le escribimos una nueva review, sea capaz de predecir si la review es positiva o negativa, con un % de error bajo. Este Notebook constará de los siguientes puntos:\n",
    "\n",
    "#### 1. Lectura de los datos\n",
    "    1.1 Eliminar valores ausentes\n",
    "#### 2. Análisis exploratorio de datos (EDA)\n",
    "    2.1 Equilibrio de datos (sobremuestreo)\n",
    "    2.2 Histogramas\n",
    "#### 3. Preprocesamiento de Datos\n",
    "    3.1 Tokenización y Stemming\n",
    "    3.2 Wordclouds\n",
    "    \n",
    "#### 4. Construcción del modelo\n",
    "    4.1 Conjunto de entrenamiento y conjunto de prueba\n",
    "    4.2 Entrenamos el modelo\n",
    "    4.3 Probamos el modelo"
   ]
  },
  {
   "cell_type": "markdown",
   "id": "db2027a0",
   "metadata": {},
   "source": [
    "## 1. Lectura de los datos\n",
    "\n",
    "Empezaremos importando los paquetes necesarios, cargando el fichero .csv y leyendo los datos."
   ]
  },
  {
   "cell_type": "code",
   "execution_count": 77,
   "id": "ad237d53",
   "metadata": {},
   "outputs": [],
   "source": [
    "#Importamos las librerías necesarias\n",
    "import numpy as np \n",
    "import pandas as pd \n",
    "from matplotlib import pyplot as plt\n",
    "import nltk\n",
    "import seaborn as sns"
   ]
  },
  {
   "cell_type": "code",
   "execution_count": 78,
   "id": "f8a72fc4",
   "metadata": {},
   "outputs": [
    {
     "data": {
      "text/html": [
       "<div>\n",
       "<style scoped>\n",
       "    .dataframe tbody tr th:only-of-type {\n",
       "        vertical-align: middle;\n",
       "    }\n",
       "\n",
       "    .dataframe tbody tr th {\n",
       "        vertical-align: top;\n",
       "    }\n",
       "\n",
       "    .dataframe thead th {\n",
       "        text-align: right;\n",
       "    }\n",
       "</style>\n",
       "<table border=\"1\" class=\"dataframe\">\n",
       "  <thead>\n",
       "    <tr style=\"text-align: right;\">\n",
       "      <th></th>\n",
       "      <th>app_id</th>\n",
       "      <th>app_name</th>\n",
       "      <th>review_text</th>\n",
       "      <th>review_score</th>\n",
       "      <th>review_votes</th>\n",
       "    </tr>\n",
       "  </thead>\n",
       "  <tbody>\n",
       "    <tr>\n",
       "      <th>0</th>\n",
       "      <td>10</td>\n",
       "      <td>Counter-Strike</td>\n",
       "      <td>Ruined my life.</td>\n",
       "      <td>1</td>\n",
       "      <td>0</td>\n",
       "    </tr>\n",
       "    <tr>\n",
       "      <th>1</th>\n",
       "      <td>10</td>\n",
       "      <td>Counter-Strike</td>\n",
       "      <td>This will be more of a ''my experience with th...</td>\n",
       "      <td>1</td>\n",
       "      <td>1</td>\n",
       "    </tr>\n",
       "    <tr>\n",
       "      <th>2</th>\n",
       "      <td>10</td>\n",
       "      <td>Counter-Strike</td>\n",
       "      <td>This game saved my virginity.</td>\n",
       "      <td>1</td>\n",
       "      <td>0</td>\n",
       "    </tr>\n",
       "    <tr>\n",
       "      <th>3</th>\n",
       "      <td>10</td>\n",
       "      <td>Counter-Strike</td>\n",
       "      <td>• Do you like original games? • Do you like ga...</td>\n",
       "      <td>1</td>\n",
       "      <td>0</td>\n",
       "    </tr>\n",
       "    <tr>\n",
       "      <th>4</th>\n",
       "      <td>10</td>\n",
       "      <td>Counter-Strike</td>\n",
       "      <td>Easy to learn, hard to master.</td>\n",
       "      <td>1</td>\n",
       "      <td>1</td>\n",
       "    </tr>\n",
       "  </tbody>\n",
       "</table>\n",
       "</div>"
      ],
      "text/plain": [
       "   app_id        app_name                                        review_text  \\\n",
       "0      10  Counter-Strike                                    Ruined my life.   \n",
       "1      10  Counter-Strike  This will be more of a ''my experience with th...   \n",
       "2      10  Counter-Strike                      This game saved my virginity.   \n",
       "3      10  Counter-Strike  • Do you like original games? • Do you like ga...   \n",
       "4      10  Counter-Strike           Easy to learn, hard to master.             \n",
       "\n",
       "   review_score  review_votes  \n",
       "0             1             0  \n",
       "1             1             1  \n",
       "2             1             0  \n",
       "3             1             0  \n",
       "4             1             1  "
      ]
     },
     "execution_count": 78,
     "metadata": {},
     "output_type": "execute_result"
    }
   ],
   "source": [
    "#Mostramos las primeras filas del dataset\n",
    "df_reviews = pd.read_csv('steam_reviews.csv')\n",
    "df_reviews.head()"
   ]
  },
  {
   "cell_type": "code",
   "execution_count": 80,
   "id": "0a794edb",
   "metadata": {},
   "outputs": [
    {
     "name": "stdout",
     "output_type": "stream",
     "text": [
      "<class 'pandas.core.frame.DataFrame'>\n",
      "RangeIndex: 6417106 entries, 0 to 6417105\n",
      "Data columns (total 5 columns):\n",
      " #   Column        Dtype \n",
      "---  ------        ----- \n",
      " 0   app_id        int64 \n",
      " 1   app_name      object\n",
      " 2   review_text   object\n",
      " 3   review_score  int64 \n",
      " 4   review_votes  int64 \n",
      "dtypes: int64(3), object(2)\n",
      "memory usage: 244.8+ MB\n"
     ]
    }
   ],
   "source": [
    "df_reviews.info()"
   ]
  },
  {
   "cell_type": "code",
   "execution_count": 81,
   "id": "e6d94fe2",
   "metadata": {},
   "outputs": [
    {
     "data": {
      "text/html": [
       "<div>\n",
       "<style scoped>\n",
       "    .dataframe tbody tr th:only-of-type {\n",
       "        vertical-align: middle;\n",
       "    }\n",
       "\n",
       "    .dataframe tbody tr th {\n",
       "        vertical-align: top;\n",
       "    }\n",
       "\n",
       "    .dataframe thead th {\n",
       "        text-align: right;\n",
       "    }\n",
       "</style>\n",
       "<table border=\"1\" class=\"dataframe\">\n",
       "  <thead>\n",
       "    <tr style=\"text-align: right;\">\n",
       "      <th></th>\n",
       "      <th>index</th>\n",
       "      <th>count</th>\n",
       "    </tr>\n",
       "  </thead>\n",
       "  <tbody>\n",
       "    <tr>\n",
       "      <th>0</th>\n",
       "      <td>Terraria</td>\n",
       "      <td>78276</td>\n",
       "    </tr>\n",
       "    <tr>\n",
       "      <th>1</th>\n",
       "      <td>PAYDAY 2</td>\n",
       "      <td>63577</td>\n",
       "    </tr>\n",
       "    <tr>\n",
       "      <th>2</th>\n",
       "      <td>Dota 2</td>\n",
       "      <td>50190</td>\n",
       "    </tr>\n",
       "    <tr>\n",
       "      <th>3</th>\n",
       "      <td>Undertale</td>\n",
       "      <td>48512</td>\n",
       "    </tr>\n",
       "    <tr>\n",
       "      <th>4</th>\n",
       "      <td>Warframe</td>\n",
       "      <td>44970</td>\n",
       "    </tr>\n",
       "    <tr>\n",
       "      <th>5</th>\n",
       "      <td>Rocket League</td>\n",
       "      <td>39035</td>\n",
       "    </tr>\n",
       "    <tr>\n",
       "      <th>6</th>\n",
       "      <td>Left 4 Dead 2</td>\n",
       "      <td>35406</td>\n",
       "    </tr>\n",
       "    <tr>\n",
       "      <th>7</th>\n",
       "      <td>Grand Theft Auto V</td>\n",
       "      <td>30213</td>\n",
       "    </tr>\n",
       "    <tr>\n",
       "      <th>8</th>\n",
       "      <td>Arma 3</td>\n",
       "      <td>29854</td>\n",
       "    </tr>\n",
       "    <tr>\n",
       "      <th>9</th>\n",
       "      <td>BioShock Infinite</td>\n",
       "      <td>29770</td>\n",
       "    </tr>\n",
       "    <tr>\n",
       "      <th>10</th>\n",
       "      <td>The Witcher 3: Wild Hunt</td>\n",
       "      <td>28392</td>\n",
       "    </tr>\n",
       "    <tr>\n",
       "      <th>11</th>\n",
       "      <td>Portal 2</td>\n",
       "      <td>28296</td>\n",
       "    </tr>\n",
       "    <tr>\n",
       "      <th>12</th>\n",
       "      <td>Insurgency</td>\n",
       "      <td>24870</td>\n",
       "    </tr>\n",
       "    <tr>\n",
       "      <th>13</th>\n",
       "      <td>Call of Duty: Black Ops III</td>\n",
       "      <td>22747</td>\n",
       "    </tr>\n",
       "    <tr>\n",
       "      <th>14</th>\n",
       "      <td>Fallout: New Vegas</td>\n",
       "      <td>22747</td>\n",
       "    </tr>\n",
       "  </tbody>\n",
       "</table>\n",
       "</div>"
      ],
      "text/plain": [
       "                          index  count\n",
       "0                      Terraria  78276\n",
       "1                      PAYDAY 2  63577\n",
       "2                        Dota 2  50190\n",
       "3                     Undertale  48512\n",
       "4                      Warframe  44970\n",
       "5                 Rocket League  39035\n",
       "6                 Left 4 Dead 2  35406\n",
       "7            Grand Theft Auto V  30213\n",
       "8                        Arma 3  29854\n",
       "9             BioShock Infinite  29770\n",
       "10     The Witcher 3: Wild Hunt  28392\n",
       "11                     Portal 2  28296\n",
       "12                   Insurgency  24870\n",
       "13  Call of Duty: Black Ops III  22747\n",
       "14           Fallout: New Vegas  22747"
      ]
     },
     "execution_count": 81,
     "metadata": {},
     "output_type": "execute_result"
    }
   ],
   "source": [
    "#Mostramos los 15 primeros juegos con más reviews\n",
    "df_reviews = df_reviews.drop_duplicates(keep='first')\n",
    "\n",
    "top_reviews_count = pd.value_counts(df_reviews.app_name)[:15].to_frame('count').reset_index()\n",
    "top_games = top_reviews_count['index'].values\n",
    "top_games \n",
    "\n",
    "#coge solo las mejores reviews de juegos de reviews_ds\n",
    "top_reviews = df_reviews[df_reviews['app_name'].isin(top_games)] #\n",
    "\n",
    "top_reviews_count"
   ]
  },
  {
   "cell_type": "markdown",
   "id": "4d298795",
   "metadata": {},
   "source": [
    "## 1.1 Eliminar valores ausentes\n",
    "\n",
    "Ahora comprobaremos qué campos del dataset contienen datos ausentes, para así poder eliminarlos ya que no nos aportan ningún tipo de información"
   ]
  },
  {
   "cell_type": "code",
   "execution_count": 82,
   "id": "72a3a9b0",
   "metadata": {},
   "outputs": [
    {
     "name": "stdout",
     "output_type": "stream",
     "text": [
      "app_id          False\n",
      "app_name         True\n",
      "review_text      True\n",
      "review_score    False\n",
      "review_votes    False\n",
      "dtype: bool\n"
     ]
    }
   ],
   "source": [
    "print(df_reviews.isnull().any(axis=0)) #Las columnas con True significan que hay valores ausentes"
   ]
  },
  {
   "cell_type": "code",
   "execution_count": 83,
   "id": "c7903f0b",
   "metadata": {},
   "outputs": [
    {
     "name": "stdout",
     "output_type": "stream",
     "text": [
      "review_score    False\n",
      "review_text     False\n",
      "dtype: bool\n",
      " \n",
      "<class 'pandas.core.frame.DataFrame'>\n",
      "Int64Index: 50000 entries, 2421293 to 2276126\n",
      "Data columns (total 2 columns):\n",
      " #   Column        Non-Null Count  Dtype \n",
      "---  ------        --------------  ----- \n",
      " 0   review_score  50000 non-null  int64 \n",
      " 1   review_text   50000 non-null  object\n",
      "dtypes: int64(1), object(1)\n",
      "memory usage: 1.1+ MB\n"
     ]
    }
   ],
   "source": [
    "df_reviews = df_reviews[['review_score','review_text']] #Usaremos solo estas dos columnas, el resto no nos interesa\n",
    "df_reviews.dropna(inplace = True)\n",
    "\n",
    "df_reviews = df_reviews.sample(n = 50000) #Cogemos solo una muestra de 20000 Aleatoria, porque no puedo analziar todo\n",
    "\n",
    "print(df_reviews.isnull().any(axis=0)) #Las columnas con True significan que hay valores ausentes\n",
    "\n",
    "print(\" \")\n",
    "df_reviews.info()\n",
    "df_reviews.reset_index(drop = True, inplace = True)"
   ]
  },
  {
   "cell_type": "markdown",
   "id": "7ca1629d",
   "metadata": {},
   "source": [
    "#### Volvemos a mostrar las primeras filas del dataset:"
   ]
  },
  {
   "cell_type": "code",
   "execution_count": 84,
   "id": "540072e0",
   "metadata": {},
   "outputs": [
    {
     "data": {
      "text/html": [
       "<div>\n",
       "<style scoped>\n",
       "    .dataframe tbody tr th:only-of-type {\n",
       "        vertical-align: middle;\n",
       "    }\n",
       "\n",
       "    .dataframe tbody tr th {\n",
       "        vertical-align: top;\n",
       "    }\n",
       "\n",
       "    .dataframe thead th {\n",
       "        text-align: right;\n",
       "    }\n",
       "</style>\n",
       "<table border=\"1\" class=\"dataframe\">\n",
       "  <thead>\n",
       "    <tr style=\"text-align: right;\">\n",
       "      <th></th>\n",
       "      <th>review_score</th>\n",
       "      <th>review_text</th>\n",
       "    </tr>\n",
       "  </thead>\n",
       "  <tbody>\n",
       "    <tr>\n",
       "      <th>0</th>\n",
       "      <td>-1</td>\n",
       "      <td>Pro's: Very pretty, hacking a grenade to blow ...</td>\n",
       "    </tr>\n",
       "    <tr>\n",
       "      <th>1</th>\n",
       "      <td>1</td>\n",
       "      <td>This game is like GTA in the sense that the np...</td>\n",
       "    </tr>\n",
       "    <tr>\n",
       "      <th>2</th>\n",
       "      <td>1</td>\n",
       "      <td>ThIS is best game !</td>\n",
       "    </tr>\n",
       "    <tr>\n",
       "      <th>3</th>\n",
       "      <td>-1</td>\n",
       "      <td>boring</td>\n",
       "    </tr>\n",
       "    <tr>\n",
       "      <th>4</th>\n",
       "      <td>1</td>\n",
       "      <td>AMAZING, plain n simple...like batman/assasins...</td>\n",
       "    </tr>\n",
       "  </tbody>\n",
       "</table>\n",
       "</div>"
      ],
      "text/plain": [
       "   review_score                                        review_text\n",
       "0            -1  Pro's: Very pretty, hacking a grenade to blow ...\n",
       "1             1  This game is like GTA in the sense that the np...\n",
       "2             1                                ThIS is best game !\n",
       "3            -1                                             boring\n",
       "4             1  AMAZING, plain n simple...like batman/assasins..."
      ]
     },
     "execution_count": 84,
     "metadata": {},
     "output_type": "execute_result"
    }
   ],
   "source": [
    "df_reviews.head()"
   ]
  },
  {
   "cell_type": "markdown",
   "id": "de229174",
   "metadata": {},
   "source": [
    "#### Vemos si hay líneas duplicadas:"
   ]
  },
  {
   "cell_type": "code",
   "execution_count": 85,
   "id": "bc532263",
   "metadata": {},
   "outputs": [
    {
     "data": {
      "text/plain": [
       "374"
      ]
     },
     "execution_count": 85,
     "metadata": {},
     "output_type": "execute_result"
    }
   ],
   "source": [
    "df_reviews.duplicated().sum()"
   ]
  },
  {
   "cell_type": "markdown",
   "id": "283eb33d",
   "metadata": {},
   "source": [
    "#### Borramos las líneas duplicadas y vemos que ahora hay 0:"
   ]
  },
  {
   "cell_type": "code",
   "execution_count": 86,
   "id": "6acc28e0",
   "metadata": {},
   "outputs": [
    {
     "data": {
      "text/plain": [
       "0"
      ]
     },
     "execution_count": 86,
     "metadata": {},
     "output_type": "execute_result"
    }
   ],
   "source": [
    "df_reviews.drop_duplicates(inplace=True)\n",
    "df_reviews.duplicated().sum()"
   ]
  },
  {
   "cell_type": "markdown",
   "id": "0afb3867",
   "metadata": {},
   "source": [
    "## 2. Análisis exploratorio de datos (EDA)\n",
    "\n",
    "El análisis exploratorio de datos (EDA) se utiliza para analizar e investigar conjuntos de datos y resumir sus características principales, a menudo empleando métodos de visualización de datos. Ayuda a determinar la mejor manera de manipular las fuentes de datos para obtener las respuestas que necesita, lo que facilita descubrir patrones, detectar anomalías, probar hipótesis o verificar suposiciones.\n",
    "\n",
    "Aquí nos damos cuenta de que hay muchas más reviews positivas que negativas:"
   ]
  },
  {
   "cell_type": "code",
   "execution_count": 87,
   "id": "d1b88960",
   "metadata": {},
   "outputs": [
    {
     "data": {
      "image/png": "[encoded data removed]",
      "text/plain": [
       "<Figure size 432x288 with 1 Axes>"
      ]
     },
     "metadata": {},
     "output_type": "display_data"
    }
   ],
   "source": [
    "plt.pie(df_reviews['review_score'].value_counts(),labels=['positive','negative'],autopct='%0.2f')\n",
    "plt.show()"
   ]
  },
  {
   "cell_type": "markdown",
   "id": "6ce16f01",
   "metadata": {},
   "source": [
    "## 2.1 Equilibrio de datos (sobremuestreo)\n",
    "El hecho de que haya una cantidad desigual de comentarios positivos y negativos puede afectar a la precisión del modelo que vamos a entrenar, por ello vamos a hacer uso de la librería imbalanced-learn para balancearlos:"
   ]
  },
  {
   "cell_type": "code",
   "execution_count": 93,
   "id": "3ff783d9",
   "metadata": {},
   "outputs": [],
   "source": [
    "#Instalamos imblearn: pip install imbalanced-learn\n",
    "\n",
    "# Sobremuestreo de la clase minoritaria\n",
    "from imblearn.over_sampling import RandomOverSampler\n",
    "\n",
    "ros = RandomOverSampler(random_state=42)\n",
    "features, labels = ros.fit_resample(df_reviews[['review_text']], df_reviews['review_score'])\n",
    "df_reviews = pd.concat([pd.DataFrame(features, columns=['review_text']), pd.DataFrame(labels, columns=['review_score'])], axis=1)"
   ]
  },
  {
   "cell_type": "code",
   "execution_count": 94,
   "id": "f548712b",
   "metadata": {},
   "outputs": [
    {
     "data": {
      "image/png": "[encoded data removed]",
      "text/plain": [
       "<Figure size 432x288 with 1 Axes>"
      ]
     },
     "metadata": {},
     "output_type": "display_data"
    }
   ],
   "source": [
    "plt.pie(df_reviews['review_score'].value_counts(),labels=['positive','negative'],autopct='%0.2f')\n",
    "plt.show()"
   ]
  },
  {
   "cell_type": "markdown",
   "id": "112f025c",
   "metadata": {},
   "source": [
    "Como podemos ver, ahora las reviews positivas/negativas si están balanceadas"
   ]
  },
  {
   "cell_type": "code",
   "execution_count": 95,
   "id": "b6b6472e",
   "metadata": {},
   "outputs": [
    {
     "name": "stderr",
     "output_type": "stream",
     "text": [
      "[nltk_data] Downloading package punkt to\n",
      "[nltk_data]     C:\\Users\\Javi\\AppData\\Roaming\\nltk_data...\n",
      "[nltk_data]   Package punkt is already up-to-date!\n"
     ]
    },
    {
     "data": {
      "text/plain": [
       "True"
      ]
     },
     "execution_count": 95,
     "metadata": {},
     "output_type": "execute_result"
    }
   ],
   "source": [
    "nltk.download('punkt')  "
   ]
  },
  {
   "cell_type": "markdown",
   "id": "77079787",
   "metadata": {},
   "source": [
    "## 2.2 Histogramas\n",
    "Ahora vamos a crear 3 nuevas columnas (num.caracteres, num.palabras y num.frases) y mediante la biblioteca seaborn vamos a dibujar 3 histogramas para verlas reflejadas respecto a las reseñas positivas (color azul) y las negativas (color rojo):"
   ]
  },
  {
   "cell_type": "code",
   "execution_count": 96,
   "id": "02a27795",
   "metadata": {},
   "outputs": [
    {
     "data": {
      "text/html": [
       "<div>\n",
       "<style scoped>\n",
       "    .dataframe tbody tr th:only-of-type {\n",
       "        vertical-align: middle;\n",
       "    }\n",
       "\n",
       "    .dataframe tbody tr th {\n",
       "        vertical-align: top;\n",
       "    }\n",
       "\n",
       "    .dataframe thead th {\n",
       "        text-align: right;\n",
       "    }\n",
       "</style>\n",
       "<table border=\"1\" class=\"dataframe\">\n",
       "  <thead>\n",
       "    <tr style=\"text-align: right;\">\n",
       "      <th></th>\n",
       "      <th>review_text</th>\n",
       "      <th>review_score</th>\n",
       "      <th>num_caracteres</th>\n",
       "      <th>num_palabras</th>\n",
       "      <th>num_frases</th>\n",
       "    </tr>\n",
       "  </thead>\n",
       "  <tbody>\n",
       "    <tr>\n",
       "      <th>0</th>\n",
       "      <td>Pro's: Very pretty, hacking a grenade to blow ...</td>\n",
       "      <td>-1</td>\n",
       "      <td>437</td>\n",
       "      <td>94</td>\n",
       "      <td>3</td>\n",
       "    </tr>\n",
       "    <tr>\n",
       "      <th>1</th>\n",
       "      <td>This game is like GTA in the sense that the np...</td>\n",
       "      <td>1</td>\n",
       "      <td>135</td>\n",
       "      <td>27</td>\n",
       "      <td>1</td>\n",
       "    </tr>\n",
       "    <tr>\n",
       "      <th>2</th>\n",
       "      <td>ThIS is best game !</td>\n",
       "      <td>1</td>\n",
       "      <td>19</td>\n",
       "      <td>5</td>\n",
       "      <td>1</td>\n",
       "    </tr>\n",
       "    <tr>\n",
       "      <th>3</th>\n",
       "      <td>boring</td>\n",
       "      <td>-1</td>\n",
       "      <td>6</td>\n",
       "      <td>1</td>\n",
       "      <td>1</td>\n",
       "    </tr>\n",
       "    <tr>\n",
       "      <th>4</th>\n",
       "      <td>AMAZING, plain n simple...like batman/assasins...</td>\n",
       "      <td>1</td>\n",
       "      <td>110</td>\n",
       "      <td>22</td>\n",
       "      <td>1</td>\n",
       "    </tr>\n",
       "  </tbody>\n",
       "</table>\n",
       "</div>"
      ],
      "text/plain": [
       "                                         review_text  review_score  \\\n",
       "0  Pro's: Very pretty, hacking a grenade to blow ...            -1   \n",
       "1  This game is like GTA in the sense that the np...             1   \n",
       "2                                ThIS is best game !             1   \n",
       "3                                             boring            -1   \n",
       "4  AMAZING, plain n simple...like batman/assasins...             1   \n",
       "\n",
       "   num_caracteres  num_palabras  num_frases  \n",
       "0             437            94           3  \n",
       "1             135            27           1  \n",
       "2              19             5           1  \n",
       "3               6             1           1  \n",
       "4             110            22           1  "
      ]
     },
     "execution_count": 96,
     "metadata": {},
     "output_type": "execute_result"
    }
   ],
   "source": [
    "#Nueva columna con longitud de cada review(num de letras)\n",
    "df_reviews['num_caracteres'] = df_reviews['review_text'].apply(len)  \n",
    "\n",
    "#Numero de palabras\n",
    "df_reviews['num_palabras'] = df_reviews['review_text'].apply(lambda x: len(nltk.word_tokenize(x))) \n",
    "\n",
    "\n",
    "#Numero de frases (separado por , o .)\n",
    "df_reviews['num_frases'] = df_reviews['review_text'].apply(lambda x: len(nltk.sent_tokenize(x)))  \n",
    "\n",
    "df_reviews.reset_index(drop = True, inplace = True)\n",
    "\n",
    "df_reviews.head()"
   ]
  },
  {
   "cell_type": "code",
   "execution_count": 107,
   "id": "87bfb681",
   "metadata": {},
   "outputs": [
    {
     "data": {
      "image/png": "[encoded data removed]",
      "text/plain": [
       "<Figure size 432x288 with 1 Axes>"
      ]
     },
     "metadata": {
      "needs_background": "light"
     },
     "output_type": "display_data"
    }
   ],
   "source": [
    "sns.histplot(df_reviews[df_reviews['review_score'] == 1]['num_caracteres'])\n",
    "sns.histplot(df_reviews[df_reviews['review_score'] == -1]['num_caracteres'],color='red')\n",
    "\n",
    "plt.show()"
   ]
  },
  {
   "cell_type": "code",
   "execution_count": 108,
   "id": "78dc8e9b",
   "metadata": {},
   "outputs": [
    {
     "data": {
      "image/png": "[encoded data removed]",
      "text/plain": [
       "<Figure size 432x288 with 1 Axes>"
      ]
     },
     "metadata": {
      "needs_background": "light"
     },
     "output_type": "display_data"
    }
   ],
   "source": [
    "sns.histplot(df_reviews[df_reviews['review_score'] == 1]['num_palabras'])\n",
    "sns.histplot(df_reviews[df_reviews['review_score'] == -1]['num_palabras'],color='red')\n",
    "\n",
    "plt.show()"
   ]
  },
  {
   "cell_type": "code",
   "execution_count": 109,
   "id": "23adcde5",
   "metadata": {},
   "outputs": [
    {
     "data": {
      "image/png": "[encoded data removed]",
      "text/plain": [
       "<Figure size 432x288 with 1 Axes>"
      ]
     },
     "metadata": {
      "needs_background": "light"
     },
     "output_type": "display_data"
    }
   ],
   "source": [
    "sns.histplot(df_reviews[df_reviews['review_score'] == 1]['num_frases'])\n",
    "sns.histplot(df_reviews[df_reviews['review_score'] == -1]['num_frases'],color='red')\n",
    "\n",
    "plt.show()"
   ]
  },
  {
   "cell_type": "markdown",
   "id": "af77f2b7",
   "metadata": {},
   "source": [
    "## 3. Preprocesamiento de Datos\n",
    "\n",
    "Ahora realizaremos las preparaciones básicas para el preprocesamiento del texto de las reseñas, eliminaremos índices innecesarios, las \"stopwords\" (palabras que no tienen un significado de manera individual) y los signos de puntuación:"
   ]
  },
  {
   "cell_type": "code",
   "execution_count": 111,
   "id": "84ebf7f0",
   "metadata": {},
   "outputs": [
    {
     "data": {
      "text/plain": [
       "'!\"#$%&\\'()*+,-./:;<=>?@[\\\\]^_`{|}~'"
      ]
     },
     "execution_count": 111,
     "metadata": {},
     "output_type": "execute_result"
    }
   ],
   "source": [
    "from nltk.corpus import stopwords\n",
    "import string\n",
    "from nltk.stem.porter import PorterStemmer\n",
    "ps = PorterStemmer()\n",
    "string.punctuation"
   ]
  },
  {
   "cell_type": "markdown",
   "id": "7a06be0f",
   "metadata": {},
   "source": [
    "## 3.1 Tokenización y Stemming\n",
    "\n",
    "Una vez importado todo lo necesario, convertimos el texto a minúsculas y lo dividimos en palabras individuales, para posteriormente **tokenizar** el texto y aplicar el stemming a cada token indivdualmente para normalizar el vocabulario y reducir el rudio en los datos del texto.\n",
    "\n",
    "**- Tokenización:** proceso de dividir un texto en unidades más pequeñas llamadas tokens.\n",
    "\n",
    "**- Stemming:** proceso de reducir una palabra a su raíz, eliminando sufijos y prefijos, con el objetivo de que las variantes de una misma palabra se reduzcan a una forma base común.\n",
    "\n",
    "Mientras que la tokenización se centra en dividir el texto en unidades significativas, el stemming se centra en normalizar las palabras individuales para reducir la variabilidad del vocabulario.\n"
   ]
  },
  {
   "cell_type": "code",
   "execution_count": 119,
   "id": "994e604c",
   "metadata": {},
   "outputs": [
    {
     "name": "stderr",
     "output_type": "stream",
     "text": [
      "[nltk_data] Downloading package stopwords to\n",
      "[nltk_data]     C:\\Users\\Javi\\AppData\\Roaming\\nltk_data...\n",
      "[nltk_data]   Package stopwords is already up-to-date!\n"
     ]
    }
   ],
   "source": [
    "nltk.download('stopwords')\n",
    "\n",
    "def convert_text(text):\n",
    "    text = text.lower() #para convertir el texto a minúsculas\n",
    "    text = nltk.word_tokenize(text) #dividimos el texto en palabras individuales\n",
    "    \n",
    "#Eliminamos las stopwords y los singnos de puntuación comparando las palabras con la lista de stopwords y signos de puntuación\n",
    "#si la palabra no está en ninguna de las dos listas, se agrega una nueva lista llamada x\n",
    "    x = []\n",
    "    y =[]\n",
    "    for i in text:\n",
    "        if i not in stopwords.words('english') and i not in string.punctuation:\n",
    "            x.append(i)\n",
    "    for i in x:\n",
    "        y.append(ps.stem(i))\n",
    "    return ' '.join(y)"
   ]
  },
  {
   "cell_type": "code",
   "execution_count": 122,
   "id": "3051ec5b",
   "metadata": {},
   "outputs": [
    {
     "data": {
      "text/plain": [
       "'Once I got the game to work on windows 7, it was pretty sweet!'"
      ]
     },
     "execution_count": 122,
     "metadata": {},
     "output_type": "execute_result"
    }
   ],
   "source": [
    "df_reviews['review_text'][8]"
   ]
  },
  {
   "cell_type": "markdown",
   "id": "d4bf83ed",
   "metadata": {},
   "source": [
    "👇**CUIDADO CON ESTA CASILLA DE CÓDIGO**👇 Tarda **MUCHO** en ejecutarse"
   ]
  },
  {
   "cell_type": "code",
   "execution_count": 123,
   "id": "9cdb12e7",
   "metadata": {},
   "outputs": [
    {
     "data": {
      "text/html": [
       "<div>\n",
       "<style scoped>\n",
       "    .dataframe tbody tr th:only-of-type {\n",
       "        vertical-align: middle;\n",
       "    }\n",
       "\n",
       "    .dataframe tbody tr th {\n",
       "        vertical-align: top;\n",
       "    }\n",
       "\n",
       "    .dataframe thead th {\n",
       "        text-align: right;\n",
       "    }\n",
       "</style>\n",
       "<table border=\"1\" class=\"dataframe\">\n",
       "  <thead>\n",
       "    <tr style=\"text-align: right;\">\n",
       "      <th></th>\n",
       "      <th>review_text</th>\n",
       "      <th>review_score</th>\n",
       "      <th>num_caracteres</th>\n",
       "      <th>num_palabras</th>\n",
       "      <th>num_frases</th>\n",
       "      <th>converted_text</th>\n",
       "    </tr>\n",
       "  </thead>\n",
       "  <tbody>\n",
       "    <tr>\n",
       "      <th>0</th>\n",
       "      <td>Pro's: Very pretty, hacking a grenade to blow ...</td>\n",
       "      <td>-1</td>\n",
       "      <td>437</td>\n",
       "      <td>94</td>\n",
       "      <td>3</td>\n",
       "      <td>pro 's pretti hack grenad blow enemi two n't g...</td>\n",
       "    </tr>\n",
       "    <tr>\n",
       "      <th>1</th>\n",
       "      <td>This game is like GTA in the sense that the np...</td>\n",
       "      <td>1</td>\n",
       "      <td>135</td>\n",
       "      <td>27</td>\n",
       "      <td>1</td>\n",
       "      <td>game like gta sens npc open world charecterist...</td>\n",
       "    </tr>\n",
       "    <tr>\n",
       "      <th>2</th>\n",
       "      <td>ThIS is best game !</td>\n",
       "      <td>1</td>\n",
       "      <td>19</td>\n",
       "      <td>5</td>\n",
       "      <td>1</td>\n",
       "      <td>best game</td>\n",
       "    </tr>\n",
       "    <tr>\n",
       "      <th>3</th>\n",
       "      <td>boring</td>\n",
       "      <td>-1</td>\n",
       "      <td>6</td>\n",
       "      <td>1</td>\n",
       "      <td>1</td>\n",
       "      <td>bore</td>\n",
       "    </tr>\n",
       "    <tr>\n",
       "      <th>4</th>\n",
       "      <td>AMAZING, plain n simple...like batman/assasins...</td>\n",
       "      <td>1</td>\n",
       "      <td>110</td>\n",
       "      <td>22</td>\n",
       "      <td>1</td>\n",
       "      <td>amaz plain n simpl ... like batman/assasin cre...</td>\n",
       "    </tr>\n",
       "  </tbody>\n",
       "</table>\n",
       "</div>"
      ],
      "text/plain": [
       "                                         review_text  review_score  \\\n",
       "0  Pro's: Very pretty, hacking a grenade to blow ...            -1   \n",
       "1  This game is like GTA in the sense that the np...             1   \n",
       "2                                ThIS is best game !             1   \n",
       "3                                             boring            -1   \n",
       "4  AMAZING, plain n simple...like batman/assasins...             1   \n",
       "\n",
       "   num_caracteres  num_palabras  num_frases  \\\n",
       "0             437            94           3   \n",
       "1             135            27           1   \n",
       "2              19             5           1   \n",
       "3               6             1           1   \n",
       "4             110            22           1   \n",
       "\n",
       "                                      converted_text  \n",
       "0  pro 's pretti hack grenad blow enemi two n't g...  \n",
       "1  game like gta sens npc open world charecterist...  \n",
       "2                                          best game  \n",
       "3                                               bore  \n",
       "4  amaz plain n simpl ... like batman/assasin cre...  "
      ]
     },
     "execution_count": 123,
     "metadata": {},
     "output_type": "execute_result"
    }
   ],
   "source": [
    "df_reviews['converted_text']=df_reviews['review_text'].apply(convert_text)\n",
    "df_reviews.head()"
   ]
  },
  {
   "cell_type": "markdown",
   "id": "349b33e7",
   "metadata": {},
   "source": [
    "#### 👆Aquí visualizamos el texto original de las reviews junto con su texto transformado tras haber realizado la tokenización y stemming👆"
   ]
  },
  {
   "cell_type": "markdown",
   "id": "07e8b7ce",
   "metadata": {},
   "source": [
    "## 3.2 Wordclouds\n",
    "Ahora mediante una \"nube de palabras\" vamos a visualizar cuales son las palabras más comunes en las reseñas positivas, el tamaño de la palabra representa su frecuencia relativa en el texto:"
   ]
  },
  {
   "cell_type": "code",
   "execution_count": 74,
   "id": "4bff29f5",
   "metadata": {},
   "outputs": [],
   "source": [
    "#pip install wordcloud\n",
    "from wordcloud import WordCloud\n",
    "wc = WordCloud(\n",
    "            background_color = 'black',\n",
    "            max_font_size = 100,\n",
    "            max_words = 100,\n",
    "            width = 1000,\n",
    "            height = 600\n",
    "            )"
   ]
  },
  {
   "cell_type": "code",
   "execution_count": 75,
   "id": "88f6bff0",
   "metadata": {},
   "outputs": [
    {
     "ename": "ValueError",
     "evalue": "Only supported for TrueType fonts",
     "output_type": "error",
     "traceback": [
      "\u001b[1;31m---------------------------------------------------------------------------\u001b[0m",
      "\u001b[1;31mValueError\u001b[0m                                Traceback (most recent call last)",
      "Input \u001b[1;32mIn [75]\u001b[0m, in \u001b[0;36m<cell line: 1>\u001b[1;34m()\u001b[0m\n\u001b[1;32m----> 1\u001b[0m pos_wc \u001b[38;5;241m=\u001b[39m \u001b[43mwc\u001b[49m\u001b[38;5;241;43m.\u001b[39;49m\u001b[43mgenerate\u001b[49m\u001b[43m(\u001b[49m\u001b[43mdf_reviews\u001b[49m\u001b[43m[\u001b[49m\u001b[43mdf_reviews\u001b[49m\u001b[43m[\u001b[49m\u001b[38;5;124;43m'\u001b[39;49m\u001b[38;5;124;43mreview_score\u001b[39;49m\u001b[38;5;124;43m'\u001b[39;49m\u001b[43m]\u001b[49m\u001b[38;5;241;43m==\u001b[39;49m\u001b[38;5;241;43m1\u001b[39;49m\u001b[43m]\u001b[49m\u001b[43m[\u001b[49m\u001b[38;5;124;43m'\u001b[39;49m\u001b[38;5;124;43mconverted_text\u001b[39;49m\u001b[38;5;124;43m'\u001b[39;49m\u001b[43m]\u001b[49m\u001b[38;5;241;43m.\u001b[39;49m\u001b[43mstr\u001b[49m\u001b[38;5;241;43m.\u001b[39;49m\u001b[43mcat\u001b[49m\u001b[43m(\u001b[49m\u001b[43msep\u001b[49m\u001b[38;5;241;43m=\u001b[39;49m\u001b[38;5;124;43m\"\u001b[39;49m\u001b[38;5;124;43m \u001b[39;49m\u001b[38;5;124;43m\"\u001b[39;49m\u001b[43m)\u001b[49m\u001b[43m)\u001b[49m\n\u001b[0;32m      2\u001b[0m plt\u001b[38;5;241m.\u001b[39mimshow(pos_wc)\n\u001b[0;32m      3\u001b[0m plt\u001b[38;5;241m.\u001b[39mshow()\n",
      "File \u001b[1;32m~\\AppData\\Roaming\\Python\\Python39\\site-packages\\wordcloud\\wordcloud.py:639\u001b[0m, in \u001b[0;36mWordCloud.generate\u001b[1;34m(self, text)\u001b[0m\n\u001b[0;32m    624\u001b[0m \u001b[38;5;28;01mdef\u001b[39;00m \u001b[38;5;21mgenerate\u001b[39m(\u001b[38;5;28mself\u001b[39m, text):\n\u001b[0;32m    625\u001b[0m     \u001b[38;5;124;03m\"\"\"Generate wordcloud from text.\u001b[39;00m\n\u001b[0;32m    626\u001b[0m \n\u001b[0;32m    627\u001b[0m \u001b[38;5;124;03m    The input \"text\" is expected to be a natural text. If you pass a sorted\u001b[39;00m\n\u001b[1;32m   (...)\u001b[0m\n\u001b[0;32m    637\u001b[0m \u001b[38;5;124;03m    self\u001b[39;00m\n\u001b[0;32m    638\u001b[0m \u001b[38;5;124;03m    \"\"\"\u001b[39;00m\n\u001b[1;32m--> 639\u001b[0m     \u001b[38;5;28;01mreturn\u001b[39;00m \u001b[38;5;28;43mself\u001b[39;49m\u001b[38;5;241;43m.\u001b[39;49m\u001b[43mgenerate_from_text\u001b[49m\u001b[43m(\u001b[49m\u001b[43mtext\u001b[49m\u001b[43m)\u001b[49m\n",
      "File \u001b[1;32m~\\AppData\\Roaming\\Python\\Python39\\site-packages\\wordcloud\\wordcloud.py:621\u001b[0m, in \u001b[0;36mWordCloud.generate_from_text\u001b[1;34m(self, text)\u001b[0m\n\u001b[0;32m    604\u001b[0m \u001b[38;5;124;03m\"\"\"Generate wordcloud from text.\u001b[39;00m\n\u001b[0;32m    605\u001b[0m \n\u001b[0;32m    606\u001b[0m \u001b[38;5;124;03mThe input \"text\" is expected to be a natural text. If you pass a sorted\u001b[39;00m\n\u001b[1;32m   (...)\u001b[0m\n\u001b[0;32m    618\u001b[0m \u001b[38;5;124;03mself\u001b[39;00m\n\u001b[0;32m    619\u001b[0m \u001b[38;5;124;03m\"\"\"\u001b[39;00m\n\u001b[0;32m    620\u001b[0m words \u001b[38;5;241m=\u001b[39m \u001b[38;5;28mself\u001b[39m\u001b[38;5;241m.\u001b[39mprocess_text(text)\n\u001b[1;32m--> 621\u001b[0m \u001b[38;5;28;43mself\u001b[39;49m\u001b[38;5;241;43m.\u001b[39;49m\u001b[43mgenerate_from_frequencies\u001b[49m\u001b[43m(\u001b[49m\u001b[43mwords\u001b[49m\u001b[43m)\u001b[49m\n\u001b[0;32m    622\u001b[0m \u001b[38;5;28;01mreturn\u001b[39;00m \u001b[38;5;28mself\u001b[39m\n",
      "File \u001b[1;32m~\\AppData\\Roaming\\Python\\Python39\\site-packages\\wordcloud\\wordcloud.py:508\u001b[0m, in \u001b[0;36mWordCloud.generate_from_frequencies\u001b[1;34m(self, frequencies, max_font_size)\u001b[0m\n\u001b[0;32m    505\u001b[0m transposed_font \u001b[38;5;241m=\u001b[39m ImageFont\u001b[38;5;241m.\u001b[39mTransposedFont(\n\u001b[0;32m    506\u001b[0m     font, orientation\u001b[38;5;241m=\u001b[39morientation)\n\u001b[0;32m    507\u001b[0m \u001b[38;5;66;03m# get size of resulting text\u001b[39;00m\n\u001b[1;32m--> 508\u001b[0m box_size \u001b[38;5;241m=\u001b[39m \u001b[43mdraw\u001b[49m\u001b[38;5;241;43m.\u001b[39;49m\u001b[43mtextbbox\u001b[49m\u001b[43m(\u001b[49m\u001b[43m(\u001b[49m\u001b[38;5;241;43m0\u001b[39;49m\u001b[43m,\u001b[49m\u001b[43m \u001b[49m\u001b[38;5;241;43m0\u001b[39;49m\u001b[43m)\u001b[49m\u001b[43m,\u001b[49m\u001b[43m \u001b[49m\u001b[43mword\u001b[49m\u001b[43m,\u001b[49m\u001b[43m \u001b[49m\u001b[43mfont\u001b[49m\u001b[38;5;241;43m=\u001b[39;49m\u001b[43mtransposed_font\u001b[49m\u001b[43m,\u001b[49m\u001b[43m \u001b[49m\u001b[43manchor\u001b[49m\u001b[38;5;241;43m=\u001b[39;49m\u001b[38;5;124;43m\"\u001b[39;49m\u001b[38;5;124;43mlt\u001b[39;49m\u001b[38;5;124;43m\"\u001b[39;49m\u001b[43m)\u001b[49m\n\u001b[0;32m    509\u001b[0m \u001b[38;5;66;03m# find possible places using integral image:\u001b[39;00m\n\u001b[0;32m    510\u001b[0m result \u001b[38;5;241m=\u001b[39m occupancy\u001b[38;5;241m.\u001b[39msample_position(box_size[\u001b[38;5;241m3\u001b[39m] \u001b[38;5;241m+\u001b[39m \u001b[38;5;28mself\u001b[39m\u001b[38;5;241m.\u001b[39mmargin,\n\u001b[0;32m    511\u001b[0m                                    box_size[\u001b[38;5;241m2\u001b[39m] \u001b[38;5;241m+\u001b[39m \u001b[38;5;28mself\u001b[39m\u001b[38;5;241m.\u001b[39mmargin,\n\u001b[0;32m    512\u001b[0m                                    random_state)\n",
      "File \u001b[1;32m~\\anaconda3\\lib\\site-packages\\PIL\\ImageDraw.py:671\u001b[0m, in \u001b[0;36mImageDraw.textbbox\u001b[1;34m(self, xy, text, font, anchor, spacing, align, direction, features, language, stroke_width, embedded_color)\u001b[0m\n\u001b[0;32m    669\u001b[0m     font \u001b[38;5;241m=\u001b[39m \u001b[38;5;28mself\u001b[39m\u001b[38;5;241m.\u001b[39mgetfont()\n\u001b[0;32m    670\u001b[0m \u001b[38;5;28;01mif\u001b[39;00m \u001b[38;5;129;01mnot\u001b[39;00m \u001b[38;5;28misinstance\u001b[39m(font, ImageFont\u001b[38;5;241m.\u001b[39mFreeTypeFont):\n\u001b[1;32m--> 671\u001b[0m     \u001b[38;5;28;01mraise\u001b[39;00m \u001b[38;5;167;01mValueError\u001b[39;00m(\u001b[38;5;124m\"\u001b[39m\u001b[38;5;124mOnly supported for TrueType fonts\u001b[39m\u001b[38;5;124m\"\u001b[39m)\n\u001b[0;32m    672\u001b[0m mode \u001b[38;5;241m=\u001b[39m \u001b[38;5;124m\"\u001b[39m\u001b[38;5;124mRGBA\u001b[39m\u001b[38;5;124m\"\u001b[39m \u001b[38;5;28;01mif\u001b[39;00m embedded_color \u001b[38;5;28;01melse\u001b[39;00m \u001b[38;5;28mself\u001b[39m\u001b[38;5;241m.\u001b[39mfontmode\n\u001b[0;32m    673\u001b[0m bbox \u001b[38;5;241m=\u001b[39m font\u001b[38;5;241m.\u001b[39mgetbbox(\n\u001b[0;32m    674\u001b[0m     text, mode, direction, features, language, stroke_width, anchor\n\u001b[0;32m    675\u001b[0m )\n",
      "\u001b[1;31mValueError\u001b[0m: Only supported for TrueType fonts"
     ]
    }
   ],
   "source": [
    "pos_wc = wc.generate(df_reviews[df_reviews['review_score']==1]['converted_text'].str.cat(sep=\" \"))\n",
    "plt.imshow(pos_wc)\n",
    "plt.show()"
   ]
  },
  {
   "cell_type": "markdown",
   "id": "da13d04a",
   "metadata": {},
   "source": [
    "#### Ahora volvemos a hacer lo mismo pero con las reseñas negativas:"
   ]
  },
  {
   "cell_type": "code",
   "execution_count": null,
   "id": "6abfda67",
   "metadata": {},
   "outputs": [],
   "source": [
    "neg_wc = wc.generate(df_reviews[df_reviews['review_score']==-1]['converted_text'].str.cat(sep=\" \"))\n",
    "plt.imshow(neg_wc)\n",
    "plt.show()"
   ]
  },
  {
   "cell_type": "markdown",
   "id": "1d2d0275",
   "metadata": {},
   "source": [
    "## 4. Construcción del modelo\n",
    "\n",
    "Para entrenar el modelo vamos a convertir el texto en vectores de características, para ello seleccionamos las 3000 palabras más frecuentes en el corpus (textos que se utilizan como fuente de datos en el entrenamiento del modelo) para ser consideradas como características:"
   ]
  },
  {
   "cell_type": "code",
   "execution_count": 124,
   "id": "3b6bfa98",
   "metadata": {},
   "outputs": [],
   "source": [
    "from sklearn.feature_extraction.text import CountVectorizer, TfidfVectorizer\n",
    "cv = CountVectorizer(max_features = 3000) #seleccionamos las 3000 palabras mas frecuentes en el corpus\n",
    "tfidf = TfidfVectorizer(max_features=5000)"
   ]
  },
  {
   "cell_type": "markdown",
   "id": "4393fb9a",
   "metadata": {},
   "source": [
    "#### Vemos que hay tantas filas como reseñas en el corpus y tantas columnas como características"
   ]
  },
  {
   "cell_type": "code",
   "execution_count": 125,
   "id": "9060f614",
   "metadata": {},
   "outputs": [
    {
     "data": {
      "text/plain": [
       "(80846, 3000)"
      ]
     },
     "execution_count": 125,
     "metadata": {},
     "output_type": "execute_result"
    }
   ],
   "source": [
    "#Transformamos la columna de reviews convertidas en una matriz de características \"X\"\n",
    "X = cv.fit_transform(df_reviews['converted_text']).toarray()\n",
    "X.shape"
   ]
  },
  {
   "cell_type": "markdown",
   "id": "53fb304f",
   "metadata": {},
   "source": [
    "#### Aquí vemos las etiquetas  de clasificación de cada review (1 positiva, -1 negativa):"
   ]
  },
  {
   "cell_type": "code",
   "execution_count": 126,
   "id": "e8922ec6",
   "metadata": {},
   "outputs": [
    {
     "data": {
      "text/plain": [
       "array([-1,  1,  1, ..., -1, -1, -1], dtype=int64)"
      ]
     },
     "execution_count": 126,
     "metadata": {},
     "output_type": "execute_result"
    }
   ],
   "source": [
    "y = df_reviews['review_score'].values\n",
    "y"
   ]
  },
  {
   "cell_type": "markdown",
   "id": "23ee742e",
   "metadata": {},
   "source": [
    "## 4.1 Conjunto de entrenamiento y conjunto de prueba\n",
    "\n",
    "Dividimos los datos en un conjunto de entrenamiento (X_train y Y_train) y un conjunto de prueba (X_test y Y_test). \n",
    "- X es la matriz de características que contiene las revisiones convertidas en vectores numéricos. \n",
    "- Y es la matriz de etiquetas que contiene los valores objetivo (positivos o negativos) de las reviews.\n",
    "\n",
    "Con train_test_split dividimos aleatoriamente los datos en conjuntos de entrenamiento y prueba, utilizando un 20% para la prueba. Con el parámetro random_state garantizamos la reproducibilidad del experimento, es decir, que los mismos datos se dividan en los mismos conjuntos de entrenamiento y prueba en cada ejecución del código. "
   ]
  },
  {
   "cell_type": "code",
   "execution_count": 128,
   "id": "dc1fa1f0",
   "metadata": {},
   "outputs": [
    {
     "name": "stdout",
     "output_type": "stream",
     "text": [
      "X_train shape :  (64676, 3000)\n",
      "y_train shape:  (64676,)\n",
      "X_test shape:  (16170, 3000)\n",
      "y_test shape:  (16170,)\n"
     ]
    }
   ],
   "source": [
    "from sklearn.model_selection import train_test_split\n",
    "X_train, X_test, y_train, y_test = train_test_split(X,y,test_size = 0.2,random_state = 34)\n",
    "\n",
    "print('X_train shape : ', X_train.shape)\n",
    "print('y_train shape: ', y_train.shape)\n",
    "\n",
    "print('X_test shape: ', X_test.shape)\n",
    "print('y_test shape: ', y_test.shape)"
   ]
  },
  {
   "cell_type": "markdown",
   "id": "17aab416",
   "metadata": {},
   "source": [
    "## 4.2 Entrenamos el modelo\n",
    "Ahora entrenamos tres modelos de clasificación Naive Bayes, los cuales son:\n",
    "\n",
    "- **GaussianNB**: asume que las características siguen una distribución normal.\n",
    "- **MultinomialNB**: se utiliza cuando las características tienen valores discretos como en el caso de frecuencia de palabras en un documento.\n",
    "- **BernoulliNB**: se utiliza para características booleanas."
   ]
  },
  {
   "cell_type": "code",
   "execution_count": 129,
   "id": "7c08e47c",
   "metadata": {},
   "outputs": [],
   "source": [
    "from sklearn.naive_bayes import GaussianNB, MultinomialNB, BernoulliNB\n",
    "from sklearn.metrics import accuracy_score, precision_score, confusion_matrix\n",
    "gnb = GaussianNB()\n",
    "mnb = MultinomialNB()\n",
    "bnb = BernoulliNB()"
   ]
  },
  {
   "cell_type": "markdown",
   "id": "8c4cfd11",
   "metadata": {},
   "source": [
    "Ahora ajustamos el modelo GaussianNB con los datos de entrenamiento (X_train, Y_train), predecimos las clases con el conjunto de datos de prueba (X_test), e imprimimos la precisión, exactitud y matriz de confusión del modelo:"
   ]
  },
  {
   "cell_type": "code",
   "execution_count": 130,
   "id": "db05cfc9",
   "metadata": {},
   "outputs": [
    {
     "name": "stdout",
     "output_type": "stream",
     "text": [
      "0.6444032158317873\n",
      "[[3445 4669]\n",
      " [1081 6975]]\n",
      "0.5990209549982823\n"
     ]
    }
   ],
   "source": [
    "gnb.fit(X_train,y_train)#ajustamos el modelo con los datos de entrenamiento\n",
    "y_pred1 = gnb.predict(X_test)#predecimos las clases con el conjunto de prueba\n",
    "print(accuracy_score(y_test,y_pred1))\n",
    "print(confusion_matrix(y_test,y_pred1))\n",
    "print(precision_score(y_test,y_pred1))"
   ]
  },
  {
   "cell_type": "markdown",
   "id": "8a1fe332",
   "metadata": {},
   "source": [
    "#### Aquí hacemos lo mismo pero con el modelo MultinomialNB:"
   ]
  },
  {
   "cell_type": "code",
   "execution_count": 131,
   "id": "3fbe16f5",
   "metadata": {},
   "outputs": [
    {
     "name": "stdout",
     "output_type": "stream",
     "text": [
      "0.8183673469387756\n",
      "[[6610 1504]\n",
      " [1433 6623]]\n",
      "0.8149378614494893\n"
     ]
    }
   ],
   "source": [
    "mnb.fit(X_train,y_train)\n",
    "y_pred2 = mnb.predict(X_test)\n",
    "print(accuracy_score(y_test,y_pred2))\n",
    "print(confusion_matrix(y_test,y_pred2))\n",
    "print(precision_score(y_test,y_pred2))\n"
   ]
  },
  {
   "cell_type": "markdown",
   "id": "9f21b959",
   "metadata": {},
   "source": [
    "#### Y aquí con el BernoulliNB:"
   ]
  },
  {
   "cell_type": "code",
   "execution_count": 132,
   "id": "552c2370",
   "metadata": {},
   "outputs": [
    {
     "name": "stdout",
     "output_type": "stream",
     "text": [
      "0.6615337043908472\n",
      "[[3961 4153]\n",
      " [1320 6736]]\n",
      "0.6186059325925246\n"
     ]
    }
   ],
   "source": [
    "bnb.fit(X_train,y_train)\n",
    "y_pred3 = bnb.predict(X_test)\n",
    "print(accuracy_score(y_test,y_pred3))\n",
    "print(confusion_matrix(y_test,y_pred3))\n",
    "print(precision_score(y_test,y_pred3))"
   ]
  },
  {
   "cell_type": "markdown",
   "id": "e490bb99",
   "metadata": {},
   "source": [
    "## 4.3 Probamos el modelo\n",
    "Observamos que los mejores resultados los obtenemos con el modeloc **MultinomialNB**, ahora vamos a probar el modelo con una review que nosotros nos inventemos:"
   ]
  },
  {
   "cell_type": "code",
   "execution_count": 133,
   "id": "51b36d7e",
   "metadata": {},
   "outputs": [],
   "source": [
    "def checker(text):\n",
    "    test = convert_text(text)\n",
    "    X = cv.transform([test])\n",
    "    response = mnb.predict(X)[0]\n",
    "    if response ==  1:\n",
    "        return 'Positive Review'\n",
    "    else:\n",
    "        return 'Negative Review'"
   ]
  },
  {
   "cell_type": "code",
   "execution_count": 153,
   "id": "6903c6bb",
   "metadata": {},
   "outputs": [
    {
     "name": "stdout",
     "output_type": "stream",
     "text": [
      "----------------------------------------------------------\n",
      "Review: I recently purchased and played 'XYZ Game' and unfortunately, I was very disappointed with my experience. From the very beginning, the game failed to captivate me. The storyline was unoriginal and predictable, and the graphics were outdated and dull. The gameplay was clunky and unresponsive, with frustratingly long load times and frequent glitches that interrupted the flow of the game. The controls were confusing and difficult to master, making even the simplest tasks a chore. To make matters worse, the game was riddled with microtransactions and pay-to-win mechanics, which made it feel like a cash grab rather than a genuine attempt to create an enjoyable gaming experience. Overall, I found 'XYZ Game' to be a complete waste of my time and money. I would not recommend this game to anyone, and I regret purchasing it. Save your money and look for a better game to play.\n",
      "\n",
      "Prediction: Negative Review\n",
      "\n",
      "----------------------------------------------------------\n",
      "\n",
      "Review: This is the best game I've ever played, my neighbor recommended it to me and I can't stop playing it ever since.\n",
      "\n",
      "Prediction: Positive Review\n",
      "\n",
      "----------------------------------------------------------\n",
      "\n",
      "Review: Since I played this truck simulator my life changed, now I know that when I grow up I want to work driving trucks.\n",
      "\n",
      "Prediction: Positive Review\n",
      "----------------------------------------------------------\n",
      "Review: I thought it was fun at first but from the middle of the game it started to get very long and repetitive.\n",
      "\n",
      "Prediction: Negative Review\n",
      "\n",
      "----------------------------------------------------------\n",
      "\n",
      "Review: It has been a very difficult game to understand and therefore I have been bored.\n",
      "\n",
      "Prediction: Negative Review\n"
     ]
    }
   ],
   "source": [
    "print(\"----------------------------------------------------------\")\n",
    "print(\"Review: I recently purchased and played 'XYZ Game' and unfortunately, I was very disappointed with my experience. From the very beginning, the game failed to captivate me. The storyline was unoriginal and predictable, and the graphics were outdated and dull. The gameplay was clunky and unresponsive, with frustratingly long load times and frequent glitches that interrupted the flow of the game. The controls were confusing and difficult to master, making even the simplest tasks a chore. To make matters worse, the game was riddled with microtransactions and pay-to-win mechanics, which made it feel like a cash grab rather than a genuine attempt to create an enjoyable gaming experience. Overall, I found 'XYZ Game' to be a complete waste of my time and money. I would not recommend this game to anyone, and I regret purchasing it. Save your money and look for a better game to play.\")\n",
    "print(\"\")\n",
    "print(\"Prediction: \"+ checker('I recently purchased and played \"XYZ Game\" and unfortunately, I was very disappointed with my experience. From the very beginning, the game failed to captivate me. The storyline was unoriginal and predictable, and the graphics were outdated and dull. The gameplay was clunky and unresponsive, with frustratingly long load times and frequent glitches that interrupted the flow of the game. The controls were confusing and difficult to master, making even the simplest tasks a chore. To make matters worse, the game was riddled with microtransactions and pay-to-win mechanics, which made it feel like a cash grab rather than a genuine attempt to create an enjoyable gaming experience. Overall, I found \"XYZ Game\" to be a complete waste of my time and money. I would not recommend this game to anyone, and I regret purchasing it. Save your money and look for a better game to play.'))\n",
    "\n",
    "print(\"\")\n",
    "print(\"----------------------------------------------------------\")\n",
    "print(\"\")\n",
    "\n",
    "print(\"Review: This is the best game I've ever played, my neighbor recommended it to me and I can't stop playing it ever since.\")\n",
    "print(\"\")\n",
    "print(\"Prediction: \"+ checker(\"This is the best game I've ever played, my neighbor recommended it to me and I can't stop playing it ever since.\"))\n",
    "\n",
    "print(\"\")\n",
    "print(\"----------------------------------------------------------\")\n",
    "print(\"\")\n",
    "\n",
    "print(\"Review: Since I played this truck simulator my life changed, now I know that when I grow up I want to work driving trucks.\")\n",
    "print(\"\")\n",
    "print(\"Prediction: \"+ checker(\"Since I played this truck simulator my life changed, now I know that when I grow up I want to work driving trucks.\"))\n",
    "print(\"----------------------------------------------------------\")\n",
    "\n",
    "print (\"Review: I thought it was fun at first but from the middle of the game it started to get very long and repetitive.\")\n",
    "print(\"\")\n",
    "print(\"Prediction: \"+ checker(\"I thought it was fun at first but from the middle of the game it started to get very long and repetitive.\"))\n",
    "\n",
    "print(\"\")\n",
    "print(\"----------------------------------------------------------\")\n",
    "print(\"\")\n",
    "\n",
    "print(\"Review: It has been a very difficult game to understand and therefore I have been bored.\")\n",
    "print(\"\")\n",
    "print(\"Prediction: \"+ checker(\"It has been a very difficult game to understand and therefore I have been bored.\"))"
   ]
  }
 ],
 "metadata": {
  "kernelspec": {
   "display_name": "Python 3 (ipykernel)",
   "language": "python",
   "name": "python3"
  },
  "language_info": {
   "codemirror_mode": {
    "name": "ipython",
    "version": 3
   },
   "file_extension": ".py",
   "mimetype": "text/x-python",
   "name": "python",
   "nbconvert_exporter": "python",
   "pygments_lexer": "ipython3",
   "version": "3.9.12"
  }
 },
 "nbformat": 4,
 "nbformat_minor": 5
}
